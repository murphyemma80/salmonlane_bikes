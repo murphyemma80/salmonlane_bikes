{
 "cells": [
  {
   "cell_type": "markdown",
   "metadata": {},
   "source": [
    "# London Shared Cycles Hire Analysis\n",
    "## Data relating to hires to and from Salmon Lane bike station (Jan-May 2017)"
   ]
  },
  {
   "cell_type": "markdown",
   "metadata": {},
   "source": [
    "I found a public data set on GoogleCloud relating to London's Santander Cycle Share scheme. I extracted some data for 2017 for the nearest cycle docking station to my apartment. I then imported this data into Microsoft SQL Server, and made some further transformations in a view, before then importing it into this Jupyter Notebook."
   ]
  },
  {
   "cell_type": "markdown",
   "metadata": {},
   "source": [
    "###### The analysis questions I set out to explore are:\n",
    "\n",
    "(I) For the entire data set, does it hold true that the average duration should be between 15 and 29 minutes? I base this guess on the pricing model, ie. beyond the base charge, a each trip is free to a user, if the duration is under 30 minutes. I would expect that if the cycle journey is less than 15 minutes, it would be more convenient to walk instead of biking.\n",
    "\n",
    "(II) If we divide the dataset into Outbound and Inbound (either starting from, or ending at, Salmon Lane docking station) - do we observe any difference in the trip duration data? For this, I would like to compare some basic descriptive statistics, and create two visualisations - Box Plots and Histograms.\n",
    "\n"
   ]
  },
  {
   "cell_type": "markdown",
   "metadata": {},
   "source": [
    "#### Import Libraries"
   ]
  },
  {
   "cell_type": "code",
   "execution_count": 23,
   "metadata": {},
   "outputs": [],
   "source": [
    "import pyodbc\n",
    "import pandas as pd\n",
    "import datetime as pydt\n",
    "import matplotlib.pyplot as plt\n",
    "import numpy as np"
   ]
  },
  {
   "cell_type": "markdown",
   "metadata": {},
   "source": [
    "#### Connect to SQL data"
   ]
  },
  {
   "cell_type": "code",
   "execution_count": 24,
   "metadata": {},
   "outputs": [
    {
     "data": {
      "text/html": [
       "<div>\n",
       "<style scoped>\n",
       "    .dataframe tbody tr th:only-of-type {\n",
       "        vertical-align: middle;\n",
       "    }\n",
       "\n",
       "    .dataframe tbody tr th {\n",
       "        vertical-align: top;\n",
       "    }\n",
       "\n",
       "    .dataframe thead th {\n",
       "        text-align: right;\n",
       "    }\n",
       "</style>\n",
       "<table border=\"1\" class=\"dataframe\">\n",
       "  <thead>\n",
       "    <tr style=\"text-align: right;\">\n",
       "      <th></th>\n",
       "      <th>journey_type</th>\n",
       "      <th>start_date_time</th>\n",
       "      <th>start_station_name</th>\n",
       "      <th>end_date_time</th>\n",
       "      <th>end_station_name</th>\n",
       "      <th>rental_id</th>\n",
       "      <th>Duration_Minutes</th>\n",
       "    </tr>\n",
       "  </thead>\n",
       "  <tbody>\n",
       "    <tr>\n",
       "      <th>0</th>\n",
       "      <td>Inbound</td>\n",
       "      <td>2017-01-04 22:40:00</td>\n",
       "      <td>Flamborough Street, Limehouse</td>\n",
       "      <td>2017-01-04 22:40:00</td>\n",
       "      <td>Salmon Lane, Limehouse</td>\n",
       "      <td>61458823</td>\n",
       "      <td>1</td>\n",
       "    </tr>\n",
       "    <tr>\n",
       "      <th>1</th>\n",
       "      <td>Inbound</td>\n",
       "      <td>2017-01-05 17:51:00</td>\n",
       "      <td>Flamborough Street, Limehouse</td>\n",
       "      <td>2017-01-05 17:51:00</td>\n",
       "      <td>Salmon Lane, Limehouse</td>\n",
       "      <td>61477472</td>\n",
       "      <td>1</td>\n",
       "    </tr>\n",
       "    <tr>\n",
       "      <th>2</th>\n",
       "      <td>Inbound</td>\n",
       "      <td>2017-01-09 21:45:00</td>\n",
       "      <td>Flamborough Street, Limehouse</td>\n",
       "      <td>2017-01-09 21:45:00</td>\n",
       "      <td>Salmon Lane, Limehouse</td>\n",
       "      <td>61572322</td>\n",
       "      <td>1</td>\n",
       "    </tr>\n",
       "    <tr>\n",
       "      <th>3</th>\n",
       "      <td>Inbound</td>\n",
       "      <td>2017-01-10 19:27:00</td>\n",
       "      <td>Flamborough Street, Limehouse</td>\n",
       "      <td>2017-01-10 19:27:00</td>\n",
       "      <td>Salmon Lane, Limehouse</td>\n",
       "      <td>61599691</td>\n",
       "      <td>1</td>\n",
       "    </tr>\n",
       "    <tr>\n",
       "      <th>4</th>\n",
       "      <td>Outbound</td>\n",
       "      <td>2017-01-11 14:02:00</td>\n",
       "      <td>Salmon Lane, Limehouse</td>\n",
       "      <td>2017-01-11 14:02:00</td>\n",
       "      <td>Flamborough Street, Limehouse</td>\n",
       "      <td>61618294</td>\n",
       "      <td>1</td>\n",
       "    </tr>\n",
       "  </tbody>\n",
       "</table>\n",
       "</div>"
      ],
      "text/plain": [
       "  journey_type     start_date_time             start_station_name       end_date_time               end_station_name  rental_id  Duration_Minutes\n",
       "0      Inbound 2017-01-04 22:40:00  Flamborough Street, Limehouse 2017-01-04 22:40:00         Salmon Lane, Limehouse   61458823                 1\n",
       "1      Inbound 2017-01-05 17:51:00  Flamborough Street, Limehouse 2017-01-05 17:51:00         Salmon Lane, Limehouse   61477472                 1\n",
       "2      Inbound 2017-01-09 21:45:00  Flamborough Street, Limehouse 2017-01-09 21:45:00         Salmon Lane, Limehouse   61572322                 1\n",
       "3      Inbound 2017-01-10 19:27:00  Flamborough Street, Limehouse 2017-01-10 19:27:00         Salmon Lane, Limehouse   61599691                 1\n",
       "4     Outbound 2017-01-11 14:02:00         Salmon Lane, Limehouse 2017-01-11 14:02:00  Flamborough Street, Limehouse   61618294                 1"
      ]
     },
     "execution_count": 24,
     "metadata": {},
     "output_type": "execute_result"
    }
   ],
   "source": [
    "#Create the Connection\n",
    "conn = pyodbc.connect('DRIVER={ODBC Driver 13 for SQL Server};SERVER=DESKTOP-V5RUANT;DATABASE=Emma;Trusted_Connection=yes')\n",
    "                      \n",
    "#QueryDB _Inbound\n",
    "sql = \"\"\"\n",
    "\n",
    "SELECT [journey_type]\n",
    "       ,[start_date_time]\n",
    "       ,[start_station_name]\n",
    "       ,[end_date_time]\n",
    "       ,[end_station_name]\n",
    "       ,[rental_id]\n",
    "       ,[Duration_Minutes]\n",
    "\n",
    "        FROM [Emma].[dbo].[salmonlane_hires_2017jantomay]\n",
    "        \n",
    "        Order by [Duration_Minutes]\n",
    "\n",
    "\"\"\"\n",
    "df=pd.read_sql(sql,conn)\n",
    "df.head()"
   ]
  },
  {
   "cell_type": "markdown",
   "metadata": {},
   "source": [
    "#### Do some exploration of the dataset"
   ]
  },
  {
   "cell_type": "code",
   "execution_count": 25,
   "metadata": {},
   "outputs": [
    {
     "data": {
      "text/plain": [
       "count    8564.0\n",
       "mean       18.0\n",
       "std        72.0\n",
       "min         1.0\n",
       "25%         7.0\n",
       "50%        13.0\n",
       "75%        20.0\n",
       "max      6035.0\n",
       "Name: Duration_Minutes, dtype: float64"
      ]
     },
     "execution_count": 25,
     "metadata": {},
     "output_type": "execute_result"
    }
   ],
   "source": [
    "#Standard descriptive statistics - I chose to highlight only one column of interest = the Duration.\n",
    "\n",
    "df.Duration_Minutes.describe().round()"
   ]
  },
  {
   "cell_type": "code",
   "execution_count": 26,
   "metadata": {},
   "outputs": [
    {
     "data": {
      "text/plain": [
       "count                       8564\n",
       "unique                       284\n",
       "top       Salmon Lane, Limehouse\n",
       "freq                        4532\n",
       "Name: start_station_name, dtype: object"
      ]
     },
     "execution_count": 26,
     "metadata": {},
     "output_type": "execute_result"
    }
   ],
   "source": [
    "#Standard descriptive statistics applied to a categorical field\n",
    "df.start_station_name.describe()"
   ]
  },
  {
   "cell_type": "code",
   "execution_count": 27,
   "metadata": {},
   "outputs": [
    {
     "data": {
      "text/plain": [
       "count                    8564\n",
       "unique                   7819\n",
       "top       2017-05-21 15:34:00\n",
       "freq                        5\n",
       "first     2017-01-01 00:26:00\n",
       "last      2017-05-31 23:37:00\n",
       "Name: start_date_time, dtype: object"
      ]
     },
     "execution_count": 27,
     "metadata": {},
     "output_type": "execute_result"
    }
   ],
   "source": [
    "#Standard descriptive statistics applied to a date field\n",
    "df.start_date_time.describe()"
   ]
  },
  {
   "cell_type": "code",
   "execution_count": 28,
   "metadata": {},
   "outputs": [
    {
     "name": "stdout",
     "output_type": "stream",
     "text": [
      "Mean Duration by Journey Type:\n",
      " Inbound     17.91\n",
      "Outbound    17.24\n"
     ]
    }
   ],
   "source": [
    "# Simplifying output for print \n",
    "# Note - without removing header,this would have appeared at the bottom -> Name: duration_mm, dtype: float64\n",
    "\n",
    "print(\"Mean Duration by Journey Type:\\n\",(df.groupby(['journey_type']).Duration_Minutes.mean().round(2)).to_string(header=None))\n"
   ]
  },
  {
   "cell_type": "markdown",
   "metadata": {},
   "source": [
    "#### Perform Text and Date Manipulations to make the data easier for the user to read\n",
    "(i)  Shorter and more consistent column headers.\n",
    "(ii) Abbreviate the focal station name.\n",
    "(iii) Display only the dates, as opposed to date-time stamps.\n"
   ]
  },
  {
   "cell_type": "code",
   "execution_count": 29,
   "metadata": {},
   "outputs": [
    {
     "data": {
      "text/plain": [
       "['journey_type',\n",
       " 'start_date_time',\n",
       " 'start_station_name',\n",
       " 'end_date_time',\n",
       " 'end_station_name',\n",
       " 'rental_id',\n",
       " 'Duration_Minutes']"
      ]
     },
     "execution_count": 29,
     "metadata": {},
     "output_type": "execute_result"
    }
   ],
   "source": [
    "# (i) Change dataframe column headers\n",
    "list(df)                         #This lists the existing column headers in the dataframe"
   ]
  },
  {
   "cell_type": "code",
   "execution_count": 30,
   "metadata": {},
   "outputs": [
    {
     "data": {
      "text/html": [
       "<div>\n",
       "<style scoped>\n",
       "    .dataframe tbody tr th:only-of-type {\n",
       "        vertical-align: middle;\n",
       "    }\n",
       "\n",
       "    .dataframe tbody tr th {\n",
       "        vertical-align: top;\n",
       "    }\n",
       "\n",
       "    .dataframe thead th {\n",
       "        text-align: right;\n",
       "    }\n",
       "</style>\n",
       "<table border=\"1\" class=\"dataframe\">\n",
       "  <thead>\n",
       "    <tr style=\"text-align: right;\">\n",
       "      <th></th>\n",
       "      <th>journey_type</th>\n",
       "      <th>start_date</th>\n",
       "      <th>start_station</th>\n",
       "      <th>end_date</th>\n",
       "      <th>end_station</th>\n",
       "      <th>rental_id</th>\n",
       "      <th>duration_mm</th>\n",
       "    </tr>\n",
       "  </thead>\n",
       "  <tbody>\n",
       "    <tr>\n",
       "      <th>0</th>\n",
       "      <td>Inbound</td>\n",
       "      <td>2017-01-04 22:40:00</td>\n",
       "      <td>Flamborough Street, Limehouse</td>\n",
       "      <td>2017-01-04 22:40:00</td>\n",
       "      <td>Salmon Lane, Limehouse</td>\n",
       "      <td>61458823</td>\n",
       "      <td>1</td>\n",
       "    </tr>\n",
       "    <tr>\n",
       "      <th>1</th>\n",
       "      <td>Inbound</td>\n",
       "      <td>2017-01-05 17:51:00</td>\n",
       "      <td>Flamborough Street, Limehouse</td>\n",
       "      <td>2017-01-05 17:51:00</td>\n",
       "      <td>Salmon Lane, Limehouse</td>\n",
       "      <td>61477472</td>\n",
       "      <td>1</td>\n",
       "    </tr>\n",
       "    <tr>\n",
       "      <th>2</th>\n",
       "      <td>Inbound</td>\n",
       "      <td>2017-01-09 21:45:00</td>\n",
       "      <td>Flamborough Street, Limehouse</td>\n",
       "      <td>2017-01-09 21:45:00</td>\n",
       "      <td>Salmon Lane, Limehouse</td>\n",
       "      <td>61572322</td>\n",
       "      <td>1</td>\n",
       "    </tr>\n",
       "    <tr>\n",
       "      <th>3</th>\n",
       "      <td>Inbound</td>\n",
       "      <td>2017-01-10 19:27:00</td>\n",
       "      <td>Flamborough Street, Limehouse</td>\n",
       "      <td>2017-01-10 19:27:00</td>\n",
       "      <td>Salmon Lane, Limehouse</td>\n",
       "      <td>61599691</td>\n",
       "      <td>1</td>\n",
       "    </tr>\n",
       "    <tr>\n",
       "      <th>4</th>\n",
       "      <td>Outbound</td>\n",
       "      <td>2017-01-11 14:02:00</td>\n",
       "      <td>Salmon Lane, Limehouse</td>\n",
       "      <td>2017-01-11 14:02:00</td>\n",
       "      <td>Flamborough Street, Limehouse</td>\n",
       "      <td>61618294</td>\n",
       "      <td>1</td>\n",
       "    </tr>\n",
       "  </tbody>\n",
       "</table>\n",
       "</div>"
      ],
      "text/plain": [
       "  journey_type          start_date                  start_station            end_date                    end_station  rental_id  duration_mm\n",
       "0      Inbound 2017-01-04 22:40:00  Flamborough Street, Limehouse 2017-01-04 22:40:00         Salmon Lane, Limehouse   61458823            1\n",
       "1      Inbound 2017-01-05 17:51:00  Flamborough Street, Limehouse 2017-01-05 17:51:00         Salmon Lane, Limehouse   61477472            1\n",
       "2      Inbound 2017-01-09 21:45:00  Flamborough Street, Limehouse 2017-01-09 21:45:00         Salmon Lane, Limehouse   61572322            1\n",
       "3      Inbound 2017-01-10 19:27:00  Flamborough Street, Limehouse 2017-01-10 19:27:00         Salmon Lane, Limehouse   61599691            1\n",
       "4     Outbound 2017-01-11 14:02:00         Salmon Lane, Limehouse 2017-01-11 14:02:00  Flamborough Street, Limehouse   61618294            1"
      ]
     },
     "execution_count": 30,
     "metadata": {},
     "output_type": "execute_result"
    }
   ],
   "source": [
    "df.columns = ['journey_type', 'start_date', 'start_station', \n",
    "              'end_date', 'end_station', 'rental_id', 'duration_mm'] #Replaces with amended headers\n",
    "df.head()"
   ]
  },
  {
   "cell_type": "code",
   "execution_count": 31,
   "metadata": {},
   "outputs": [
    {
     "data": {
      "text/plain": [
       "0                       Salmonlane\n",
       "1                       Salmonlane\n",
       "2                       Salmonlane\n",
       "3                       Salmonlane\n",
       "4    Flamborough Street, Limehouse\n",
       "Name: end_station, dtype: object"
      ]
     },
     "execution_count": 31,
     "metadata": {},
     "output_type": "execute_result"
    }
   ],
   "source": [
    "# (ii) Abbreviate the focal station name from 'Salmon Lane, Limehouse' to 'Salmonlane'\n",
    "\n",
    "df.loc[df['start_station'].str.startswith('Salmon Lane, Limehouse'),'start_station'] = \"Salmonlane\" #find anything that starts with \"Salmon\" \n",
    "df.loc[df['end_station'].str.startswith('Salmon Lane, Limehouse'),'end_station'] = \"Salmonlane\"     #... and replace with \"'\"Salmonlane\"\n",
    "\n",
    "df['end_station'].head()  #validate result\n"
   ]
  },
  {
   "cell_type": "code",
   "execution_count": 32,
   "metadata": {},
   "outputs": [
    {
     "name": "stdout",
     "output_type": "stream",
     "text": [
      "Example transformed data last rows: 8559    2017-01-25\n",
      "8560    2017-02-02\n",
      "8561    2017-05-10\n",
      "8562    2017-03-23\n",
      "8563    2017-04-14\n",
      "Name: start_date, dtype: object\n"
     ]
    },
    {
     "data": {
      "text/plain": [
       "0    2017-01-04\n",
       "1    2017-01-05\n",
       "2    2017-01-09\n",
       "3    2017-01-10\n",
       "4    2017-01-11\n",
       "Name: start_date, dtype: object"
      ]
     },
     "execution_count": 32,
     "metadata": {},
     "output_type": "execute_result"
    }
   ],
   "source": [
    "# (iii) Display only the dates, as opposed to date-time stamps.\n",
    "\n",
    "\n",
    "start_date_only = pd.to_datetime(df['start_date']).dt.date                                #This part creates the conversion \n",
    "print(\"Example transformed data last rows:\",start_date_only.tail(n=5))                    #Checker to validate the function\n",
    "df['start_date'] = start_date_only                                        #Converts the existing column with the conversion\n",
    "df['start_date'].head()\n"
   ]
  },
  {
   "cell_type": "code",
   "execution_count": 33,
   "metadata": {},
   "outputs": [
    {
     "data": {
      "text/plain": [
       "0    2017-01-04\n",
       "1    2017-01-05\n",
       "2    2017-01-09\n",
       "3    2017-01-10\n",
       "4    2017-01-11\n",
       "Name: end_date, dtype: object"
      ]
     },
     "execution_count": 33,
     "metadata": {},
     "output_type": "execute_result"
    }
   ],
   "source": [
    "# (iii) ...continued - can I convert a column date format as one step instead of two?\n",
    "df['end_date'] = pd.to_datetime(df['end_date']).dt.date                      #Converts the existing column with the conversion\n",
    "df['end_date'].head()\n"
   ]
  },
  {
   "cell_type": "markdown",
   "metadata": {},
   "source": [
    "#### Sub-divide the Dataframe into Inbound and Outbound"
   ]
  },
  {
   "cell_type": "code",
   "execution_count": 34,
   "metadata": {},
   "outputs": [
    {
     "name": "stdout",
     "output_type": "stream",
     "text": [
      "  journey_type  start_date                  start_station    end_date end_station  rental_id  duration_mm\n",
      "0      Inbound  2017-01-04  Flamborough Street, Limehouse  2017-01-04  Salmonlane   61458823            1\n",
      "1      Inbound  2017-01-05  Flamborough Street, Limehouse  2017-01-05  Salmonlane   61477472            1\n",
      "2      Inbound  2017-01-09  Flamborough Street, Limehouse  2017-01-09  Salmonlane   61572322            1\n",
      "3      Inbound  2017-01-10  Flamborough Street, Limehouse  2017-01-10  Salmonlane   61599691            1\n",
      "5      Inbound  2017-01-13  Flamborough Street, Limehouse  2017-01-13  Salmonlane   61657872            1 \n",
      "\n",
      "   journey_type  start_date start_station    end_date                    end_station  rental_id  duration_mm\n",
      "4      Outbound  2017-01-11    Salmonlane  2017-01-11  Flamborough Street, Limehouse   61618294            1\n",
      "7      Outbound  2017-01-17    Salmonlane  2017-01-17  Flamborough Street, Limehouse   61718923            1\n",
      "11     Outbound  2017-01-24    Salmonlane  2017-01-24  Flamborough Street, Limehouse   61908706            1\n",
      "12     Outbound  2017-01-27    Salmonlane  2017-01-27  Flamborough Street, Limehouse   61986628            1\n",
      "18     Outbound  2017-02-14    Salmonlane  2017-02-14  Flamborough Street, Limehouse   62355301            1\n"
     ]
    }
   ],
   "source": [
    "# Creating a sub dataframe based on a condition\n",
    "\n",
    "pd.set_option('expand_frame_repr', False)  # Avoid text wrapping for Print\n",
    "\n",
    "sdfIn = df.loc[df['journey_type'] == 'Inbound']\n",
    "print(sdfIn.head(),\"\\n\")                # \"\\n\" at the end denotes new line for the next output\n",
    "\n",
    "sdfOut = df.loc[df['journey_type'] == 'Outbound']\n",
    "print(sdfOut.head())"
   ]
  },
  {
   "cell_type": "code",
   "execution_count": 35,
   "metadata": {},
   "outputs": [
    {
     "name": "stdout",
     "output_type": "stream",
     "text": [
      "Standard Desc Stats_INBOUND: \n",
      " count    4032.0\n",
      "mean       18.0\n",
      "std       101.0\n",
      "min         1.0\n",
      "25%         7.0\n",
      "50%        13.0\n",
      "75%        20.0\n",
      "max      6035.0\n",
      "Name: duration_mm, dtype: float64 \n",
      "\n",
      "Standard Desc Stats_OUTBOUND: \n",
      " count    4532.0\n",
      "mean       17.0\n",
      "std        25.0\n",
      "min         1.0\n",
      "25%         7.0\n",
      "50%        14.0\n",
      "75%        21.0\n",
      "max      1014.0\n",
      "Name: duration_mm, dtype: float64\n"
     ]
    }
   ],
   "source": [
    "#Standard descriptive statistics for a sub data-frame\n",
    "\n",
    "print(\"Standard Desc Stats_INBOUND:\",\"\\n\",sdfIn.duration_mm.describe().round(),\"\\n\")\n",
    "print(\"Standard Desc Stats_OUTBOUND:\",\"\\n\",sdfOut.duration_mm.describe().round())"
   ]
  },
  {
   "cell_type": "code",
   "execution_count": 36,
   "metadata": {},
   "outputs": [
    {
     "data": {
      "text/html": [
       "<div>\n",
       "<style scoped>\n",
       "    .dataframe tbody tr th:only-of-type {\n",
       "        vertical-align: middle;\n",
       "    }\n",
       "\n",
       "    .dataframe tbody tr th {\n",
       "        vertical-align: top;\n",
       "    }\n",
       "\n",
       "    .dataframe thead th {\n",
       "        text-align: right;\n",
       "    }\n",
       "</style>\n",
       "<table border=\"1\" class=\"dataframe\">\n",
       "  <thead>\n",
       "    <tr style=\"text-align: right;\">\n",
       "      <th></th>\n",
       "      <th>count</th>\n",
       "      <th>mean</th>\n",
       "      <th>std</th>\n",
       "      <th>min</th>\n",
       "      <th>25%</th>\n",
       "      <th>50%</th>\n",
       "      <th>75%</th>\n",
       "      <th>max</th>\n",
       "    </tr>\n",
       "    <tr>\n",
       "      <th>journey_type</th>\n",
       "      <th></th>\n",
       "      <th></th>\n",
       "      <th></th>\n",
       "      <th></th>\n",
       "      <th></th>\n",
       "      <th></th>\n",
       "      <th></th>\n",
       "      <th></th>\n",
       "    </tr>\n",
       "  </thead>\n",
       "  <tbody>\n",
       "    <tr>\n",
       "      <th>Inbound</th>\n",
       "      <td>4032.0</td>\n",
       "      <td>18.0</td>\n",
       "      <td>101.0</td>\n",
       "      <td>1.0</td>\n",
       "      <td>7.0</td>\n",
       "      <td>13.0</td>\n",
       "      <td>20.0</td>\n",
       "      <td>6035.0</td>\n",
       "    </tr>\n",
       "    <tr>\n",
       "      <th>Outbound</th>\n",
       "      <td>4532.0</td>\n",
       "      <td>17.0</td>\n",
       "      <td>25.0</td>\n",
       "      <td>1.0</td>\n",
       "      <td>7.0</td>\n",
       "      <td>14.0</td>\n",
       "      <td>21.0</td>\n",
       "      <td>1014.0</td>\n",
       "    </tr>\n",
       "  </tbody>\n",
       "</table>\n",
       "</div>"
      ],
      "text/plain": [
       "               count  mean    std  min  25%   50%   75%     max\n",
       "journey_type                                                   \n",
       "Inbound       4032.0  18.0  101.0  1.0  7.0  13.0  20.0  6035.0\n",
       "Outbound      4532.0  17.0   25.0  1.0  7.0  14.0  21.0  1014.0"
      ]
     },
     "execution_count": 36,
     "metadata": {},
     "output_type": "execute_result"
    }
   ],
   "source": [
    "# NOTE - Groupby would be another, easier way to achieve this\n",
    "df.groupby(['journey_type']).duration_mm.describe().round()"
   ]
  },
  {
   "cell_type": "markdown",
   "metadata": {},
   "source": [
    "##### Midway observations from the analysis:\n",
    "    I had speculated that the average journey length would be somewhere between 15 and 29 minutes.  It is a mean of 18 for the full data set, and 18 and 17 minutes respectively when devided into Inbound and Outbound.\n",
    "    \n",
    "    The median (50th percentile is somewhat lower than this, 13 and 15 minutes - so there's a greater proportion of short trips under 15 minutes than I had anticipated.  I will analyse this further looking into the most common locations being traveled to/from. \n",
    "    \n",
    "    Particularly the Inbound sub dataframe seems to be impacted by outliers with a much larger standard deviation - the max value of 6035 minutes equates to 4 days!  I will explore this further by listing out the top longest values, cleaning for outliers and displaying the data visually.\n",
    "        "
   ]
  },
  {
   "cell_type": "markdown",
   "metadata": {},
   "source": [
    "#### Most popular stations linking with Salmon Lane - groupby and top 10"
   ]
  },
  {
   "cell_type": "code",
   "execution_count": 37,
   "metadata": {},
   "outputs": [
    {
     "name": "stdout",
     "output_type": "stream",
     "text": [
      "Number of Rentals per Top 10 Destinations: \n",
      " The Green Bridge, Mile End                213\n",
      "Flamborough Street, Limehouse             203\n",
      "Salmonlane                                151\n",
      "Mile End Park Leisure Centre, Mile End    133\n",
      "Albert Gardens, Stepney                   110\n",
      "Royal London Hospital, Whitechapel         99\n",
      "Southern Grove, Bow                        78\n",
      "Queen Victoria Street, St. Paul's          68\n",
      "Fournier Street, Whitechapel               67\n",
      "Harford Street, Mile End                   66\n"
     ]
    }
   ],
   "source": [
    "# Top10 by groupby - count \n",
    "# !=   A condition to exclude rows from the calculation\n",
    "# OBS! I checked the original dataset (see below), it's indeed correct that there's 151 cases of start and end in Salmonlane\n",
    "\n",
    "a = df.loc[df['journey_type'] !='Inbound', ['end_station', 'rental_id']]\n",
    "b = a.groupby(['end_station']).rental_id.count().nlargest(10)\n",
    "print(\"Number of Rentals per Top 10 Destinations: \\n\",b.to_string(header=None))"
   ]
  },
  {
   "cell_type": "code",
   "execution_count": 38,
   "metadata": {},
   "outputs": [
    {
     "name": "stdout",
     "output_type": "stream",
     "text": [
      "# Rows where both start and end station is Salmonlane:  151\n"
     ]
    },
    {
     "data": {
      "text/html": [
       "<div>\n",
       "<style scoped>\n",
       "    .dataframe tbody tr th:only-of-type {\n",
       "        vertical-align: middle;\n",
       "    }\n",
       "\n",
       "    .dataframe tbody tr th {\n",
       "        vertical-align: top;\n",
       "    }\n",
       "\n",
       "    .dataframe thead th {\n",
       "        text-align: right;\n",
       "    }\n",
       "</style>\n",
       "<table border=\"1\" class=\"dataframe\">\n",
       "  <thead>\n",
       "    <tr style=\"text-align: right;\">\n",
       "      <th></th>\n",
       "      <th>journey_type</th>\n",
       "      <th>start_date</th>\n",
       "      <th>start_station</th>\n",
       "      <th>end_date</th>\n",
       "      <th>end_station</th>\n",
       "      <th>rental_id</th>\n",
       "      <th>duration_mm</th>\n",
       "    </tr>\n",
       "  </thead>\n",
       "  <tbody>\n",
       "    <tr>\n",
       "      <th>392</th>\n",
       "      <td>Outbound</td>\n",
       "      <td>2017-03-21</td>\n",
       "      <td>Salmonlane</td>\n",
       "      <td>2017-03-21</td>\n",
       "      <td>Salmonlane</td>\n",
       "      <td>63264742</td>\n",
       "      <td>3</td>\n",
       "    </tr>\n",
       "    <tr>\n",
       "      <th>598</th>\n",
       "      <td>Outbound</td>\n",
       "      <td>2017-04-20</td>\n",
       "      <td>Salmonlane</td>\n",
       "      <td>2017-04-20</td>\n",
       "      <td>Salmonlane</td>\n",
       "      <td>64239422</td>\n",
       "      <td>4</td>\n",
       "    </tr>\n",
       "    <tr>\n",
       "      <th>606</th>\n",
       "      <td>Outbound</td>\n",
       "      <td>2017-04-14</td>\n",
       "      <td>Salmonlane</td>\n",
       "      <td>2017-04-14</td>\n",
       "      <td>Salmonlane</td>\n",
       "      <td>64068636</td>\n",
       "      <td>4</td>\n",
       "    </tr>\n",
       "    <tr>\n",
       "      <th>616</th>\n",
       "      <td>Outbound</td>\n",
       "      <td>2017-04-08</td>\n",
       "      <td>Salmonlane</td>\n",
       "      <td>2017-04-08</td>\n",
       "      <td>Salmonlane</td>\n",
       "      <td>63846307</td>\n",
       "      <td>4</td>\n",
       "    </tr>\n",
       "    <tr>\n",
       "      <th>617</th>\n",
       "      <td>Outbound</td>\n",
       "      <td>2017-04-08</td>\n",
       "      <td>Salmonlane</td>\n",
       "      <td>2017-04-08</td>\n",
       "      <td>Salmonlane</td>\n",
       "      <td>63843771</td>\n",
       "      <td>4</td>\n",
       "    </tr>\n",
       "  </tbody>\n",
       "</table>\n",
       "</div>"
      ],
      "text/plain": [
       "    journey_type  start_date start_station    end_date end_station  rental_id  duration_mm\n",
       "392     Outbound  2017-03-21    Salmonlane  2017-03-21  Salmonlane   63264742            3\n",
       "598     Outbound  2017-04-20    Salmonlane  2017-04-20  Salmonlane   64239422            4\n",
       "606     Outbound  2017-04-14    Salmonlane  2017-04-14  Salmonlane   64068636            4\n",
       "616     Outbound  2017-04-08    Salmonlane  2017-04-08  Salmonlane   63846307            4\n",
       "617     Outbound  2017-04-08    Salmonlane  2017-04-08  Salmonlane   63843771            4"
      ]
     },
     "execution_count": 38,
     "metadata": {},
     "output_type": "execute_result"
    }
   ],
   "source": [
    "# A validation to check if Salmonlane is correctly both a start and end station on the same row\n",
    "sl = df.loc[(df['start_station'] == 'Salmonlane') & (df['end_station'] == 'Salmonlane')]\n",
    "print(\"# Rows where both start and end station is Salmonlane: \",len(sl))\n",
    "sl.head()"
   ]
  },
  {
   "cell_type": "code",
   "execution_count": 39,
   "metadata": {},
   "outputs": [
    {
     "name": "stdout",
     "output_type": "stream",
     "text": [
      "Number of Rentals per Top 10 Start Stations: \n",
      " Flamborough Street, Limehouse             189\n",
      "The Green Bridge, Mile End                162\n",
      "Mile End Park Leisure Centre, Mile End    135\n",
      "Albert Gardens, Stepney                   114\n",
      "Southern Grove, Bow                        93\n",
      "Cleveland Way, Stepney                     84\n",
      "Royal London Hospital, Whitechapel         83\n",
      "Ansell House, Stepney                      72\n",
      "Stepney Green Station, Stepney             64\n",
      "Westferry DLR, Limehouse                   64\n"
     ]
    }
   ],
   "source": [
    "# Top 10 by groupby - count for Inbound\n",
    "c = df.loc[df['journey_type'] !='Outbound', ['start_station', 'rental_id']]\n",
    "d = c.groupby(['start_station']).rental_id.count().nlargest(10)\n",
    "print(\"Number of Rentals per Top 10 Start Stations: \\n\",d.to_string(header=None))"
   ]
  },
  {
   "cell_type": "markdown",
   "metadata": {},
   "source": [
    "#### Further analysis to get the mean duration for the Top 2 connecting stations"
   ]
  },
  {
   "cell_type": "code",
   "execution_count": 51,
   "metadata": {},
   "outputs": [
    {
     "name": "stdout",
     "output_type": "stream",
     "text": [
      "OUTBOUND_Mean Duration for Top Two End Stations:\n",
      " Flamborough Street, Limehouse    7.1\n",
      "The Green Bridge, Mile End       7.9\n",
      "\n",
      "INBOUND_Mean Duration for Top Two Start Stations:\n",
      " Flamborough Street, Limehouse    9.9\n",
      "The Green Bridge, Mile End       9.3\n"
     ]
    }
   ],
   "source": [
    "g = df.loc[df.end_station.isin(['The Green Bridge, Mile End','Flamborough Street, Limehouse'])]\n",
    "# g.head()      This was used as an interim checket to see my output\n",
    "print(\"OUTBOUND_Mean Duration for Top Two End Stations:\\n\",(g.groupby(['end_station']).duration_mm.mean().round(1)).to_string(header=None))\n",
    "\n",
    "e = df.loc[df.start_station.isin(['The Green Bridge, Mile End','Flamborough Street, Limehouse'])]\n",
    "print(\"\\nINBOUND_Mean Duration for Top Two Start Stations:\\n\",(e.groupby(['start_station']).duration_mm.mean().round(1)).to_string(header=None))\n"
   ]
  },
  {
   "cell_type": "markdown",
   "metadata": {},
   "source": [
    "#### Finding the outliers by longest duration"
   ]
  },
  {
   "cell_type": "code",
   "execution_count": 41,
   "metadata": {},
   "outputs": [
    {
     "data": {
      "text/html": [
       "<div>\n",
       "<style scoped>\n",
       "    .dataframe tbody tr th:only-of-type {\n",
       "        vertical-align: middle;\n",
       "    }\n",
       "\n",
       "    .dataframe tbody tr th {\n",
       "        vertical-align: top;\n",
       "    }\n",
       "\n",
       "    .dataframe thead th {\n",
       "        text-align: right;\n",
       "    }\n",
       "</style>\n",
       "<table border=\"1\" class=\"dataframe\">\n",
       "  <thead>\n",
       "    <tr style=\"text-align: right;\">\n",
       "      <th></th>\n",
       "      <th>rental_id</th>\n",
       "      <th>duration_mm</th>\n",
       "    </tr>\n",
       "  </thead>\n",
       "  <tbody>\n",
       "    <tr>\n",
       "      <th>8554</th>\n",
       "      <td>63632487</td>\n",
       "      <td>338</td>\n",
       "    </tr>\n",
       "    <tr>\n",
       "      <th>8555</th>\n",
       "      <td>62661505</td>\n",
       "      <td>422</td>\n",
       "    </tr>\n",
       "    <tr>\n",
       "      <th>8556</th>\n",
       "      <td>62064217</td>\n",
       "      <td>511</td>\n",
       "    </tr>\n",
       "    <tr>\n",
       "      <th>8557</th>\n",
       "      <td>63752622</td>\n",
       "      <td>520</td>\n",
       "    </tr>\n",
       "    <tr>\n",
       "      <th>8558</th>\n",
       "      <td>62878025</td>\n",
       "      <td>547</td>\n",
       "    </tr>\n",
       "    <tr>\n",
       "      <th>8559</th>\n",
       "      <td>61941055</td>\n",
       "      <td>576</td>\n",
       "    </tr>\n",
       "    <tr>\n",
       "      <th>8560</th>\n",
       "      <td>62113169</td>\n",
       "      <td>978</td>\n",
       "    </tr>\n",
       "    <tr>\n",
       "      <th>8561</th>\n",
       "      <td>64826444</td>\n",
       "      <td>1014</td>\n",
       "    </tr>\n",
       "    <tr>\n",
       "      <th>8562</th>\n",
       "      <td>63324662</td>\n",
       "      <td>1521</td>\n",
       "    </tr>\n",
       "    <tr>\n",
       "      <th>8563</th>\n",
       "      <td>64062230</td>\n",
       "      <td>6035</td>\n",
       "    </tr>\n",
       "  </tbody>\n",
       "</table>\n",
       "</div>"
      ],
      "text/plain": [
       "      rental_id  duration_mm\n",
       "8554   63632487          338\n",
       "8555   62661505          422\n",
       "8556   62064217          511\n",
       "8557   63752622          520\n",
       "8558   62878025          547\n",
       "8559   61941055          576\n",
       "8560   62113169          978\n",
       "8561   64826444         1014\n",
       "8562   63324662         1521\n",
       "8563   64062230         6035"
      ]
     },
     "execution_count": 41,
     "metadata": {},
     "output_type": "execute_result"
    }
   ],
   "source": [
    "# The dataset is presorted in ascending order of duration.  The tail gives the top 10 longest rentals.\n",
    "df[['rental_id','duration_mm']].tail(10)"
   ]
  },
  {
   "cell_type": "code",
   "execution_count": 42,
   "metadata": {},
   "outputs": [
    {
     "name": "stdout",
     "output_type": "stream",
     "text": [
      "# Rows not within 2 std dev of mean:  27\n",
      "\n",
      "Out of # Rows in total dataframe:  8564\n",
      "\n",
      "Percentage of dataframe to be excluded:  0.32  %\n"
     ]
    }
   ],
   "source": [
    "# CLEANING THE DATA FOR OUTLIERS\n",
    "# Taking the full data set, the mean is 18, and the standard deviation is 72.  \n",
    "# If we were to exclude all values more than 2 standard deviations from the mean, that would elminate all values above 162 mins\n",
    "\n",
    "olg = df.query('duration_mm> 162')\n",
    "print(\"# Rows not within 2 std dev of mean: \",len(olg))\n",
    "print(\"\\nOut of # Rows in total dataframe: \",len(df))\n",
    "pco = (len(olg)/len(df))*100  \n",
    "print(\"\\nPercentage of dataframe to be excluded: \",np.round_(pco, decimals=2),\" %\")          #Using Numpy to round here\n"
   ]
  },
  {
   "cell_type": "code",
   "execution_count": 43,
   "metadata": {},
   "outputs": [
    {
     "name": "stdout",
     "output_type": "stream",
     "text": [
      "     journey_type  start_date                  start_station    end_date                 end_station  rental_id  duration_mm\n",
      "8532      Inbound  2017-04-12  Flamborough Street, Limehouse  2017-04-12                  Salmonlane   64001026          153\n",
      "8533     Outbound  2017-05-11                     Salmonlane  2017-05-11  Mile End Stadium, Mile End   64895165          154\n",
      "8534      Inbound  2017-05-24      Dunston Road , Haggerston  2017-05-24                  Salmonlane   65304984          157\n",
      "8535     Outbound  2017-03-19                     Salmonlane  2017-03-19                  Salmonlane   63210625          160\n",
      "8536     Outbound  2017-03-19                     Salmonlane  2017-03-19                  Salmonlane   63210591          161\n"
     ]
    }
   ],
   "source": [
    "# Creating a 'clean' sub dataframe based on the condition of excluding the values more than 2 std from mean\n",
    "\n",
    "sdfClean = df.loc[df['duration_mm'] <= 162]\n",
    "print(sdfClean.tail(5))\n",
    "\n",
    "# Further subdividing sdfClean into Inbound and Outbound\n",
    "sdfCleanIn = sdfClean.loc[sdfClean['journey_type'] == 'Inbound']\n",
    "sdfCleanOut = sdfClean.loc[sdfClean['journey_type'] == 'Outbound']"
   ]
  },
  {
   "cell_type": "code",
   "execution_count": 44,
   "metadata": {},
   "outputs": [
    {
     "name": "stdout",
     "output_type": "stream",
     "text": [
      "Descriptive Statistics for the Cleaned Dataset:\n",
      " count    8537.00\n",
      "mean       15.68\n",
      "std        13.32\n",
      "min         1.00\n",
      "25%         7.00\n",
      "50%        13.00\n",
      "75%        20.00\n",
      "max       161.00\n"
     ]
    }
   ],
   "source": [
    "sdfClean.duration_mm.describe().round(2)\n",
    "print(\"Descriptive Statistics for the Cleaned Dataset:\\n\",(sdfClean.duration_mm.describe().round(2)).to_string(header=None))"
   ]
  },
  {
   "cell_type": "markdown",
   "metadata": {},
   "source": [
    "#### Visualisation of the Cleaned Dataset"
   ]
  },
  {
   "cell_type": "code",
   "execution_count": 78,
   "metadata": {},
   "outputs": [
    {
     "data": {
      "image/png": "[encoded data removed]",
      "text/plain": [
       "<Figure size 432x288 with 1 Axes>"
      ]
     },
     "metadata": {},
     "output_type": "display_data"
    },
    {
     "data": {
      "image/png": "[encoded data removed]",
      "text/plain": [
       "<Figure size 432x288 with 1 Axes>"
      ]
     },
     "metadata": {},
     "output_type": "display_data"
    }
   ],
   "source": [
    "# Box plots - putting 2 into one cell\n",
    "sdfCleanIn.duration_mm.plot(kind='box')\n",
    "plt.show()\n",
    "sdfCleanOut.duration_mm.plot(kind='box')\n",
    "plt.show()"
   ]
  },
  {
   "cell_type": "code",
   "execution_count": 96,
   "metadata": {},
   "outputs": [
    {
     "data": {
      "image/png": "[encoded data removed]",
      "text/plain": [
       "<Figure size 432x288 with 2 Axes>"
      ]
     },
     "metadata": {},
     "output_type": "display_data"
    }
   ],
   "source": [
    "#The subplots gives the graphs side by side.  Note they do not have the same sccale on the y axis!\n",
    "\n",
    "fig, axs = plt.subplots(1,2)\n",
    "fig.suptitle(\"BOXPLOTS\", fontsize=16)                                     # adding a title to the cell\n",
    "ax1 = sdfCleanIn.duration_mm.plot(kind='box',showfliers=False,ax=axs[0])  # showfliers False removes the outliers from display\n",
    "ax2 = sdfCleanOut.duration_mm.plot(kind='box',showfliers=False,ax=axs[1])\n",
    "ax1.title.set_text('INBOUND')                                          # Adding sub-titles for each plot\n",
    "ax2.title.set_text('OUTBOUND')\n"
   ]
  },
  {
   "cell_type": "code",
   "execution_count": 75,
   "metadata": {},
   "outputs": [
    {
     "name": "stdout",
     "output_type": "stream",
     "text": [
      "INBOUND:\n",
      "Upper Whisker of Boxplot:  39.5\n",
      "Percent above Upper Whisker: 2.6 %\n"
     ]
    }
   ],
   "source": [
    "# Interpreting the whiskers on the boxplots. I will calculate the upper whisker for the Inbounds.\n",
    "# Range for whiskers is [(Q1-1.5 IQR), (Q3+1.5 IQR)] \n",
    "iqr = np.subtract(*np.percentile(sdfCleanIn.duration_mm, [75, 25]))                        #IQR is interquartile range\n",
    "print(\"INBOUND:\")\n",
    "print(\"Upper Whisker of Boxplot: \",1.5*iqr+ (np.percentile(sdfCleanIn.duration_mm, 75)))\n",
    "\n",
    "# Calculating the proportion of trips longer than the uppper whisker\n",
    "pct_above_upper_whisker = sdfCleanIn.query('duration_mm>= 39.5').rental_id.count()/sdfCleanIn.rental_id.count()*100\n",
    "print(\"Percent above Upper Whisker:\",pct_above_upper_whisker.round(1),\"%\")"
   ]
  },
  {
   "cell_type": "code",
   "execution_count": 98,
   "metadata": {},
   "outputs": [
    {
     "data": {
      "image/png": "[encoded data removed]",
      "text/plain": [
       "<Figure size 432x288 with 2 Axes>"
      ]
     },
     "metadata": {},
     "output_type": "display_data"
    }
   ],
   "source": [
    "#The subplots gives the graphs side by side.  Note they do not necessarily have the same sccale on the y axis!\n",
    "\n",
    "fig, axs = plt.subplots(1,2)\n",
    "fig.suptitle(\"HISTOGRAMS\", fontsize=16)\n",
    "ax1 = sdfCleanIn.duration_mm.plot(kind='hist',bins=11, ax=axs[0])\n",
    "ax2 = sdfCleanOut.duration_mm.plot(kind='hist', bins = 11, ax=axs[1])\n",
    "#11 bins gives slots of approx 15 mins each, which is interesting for my analysis\n",
    "\n",
    "ax1.title.set_text('INBOUND')                                          # Adding sub-titles for each plot\n",
    "ax2.title.set_text('OUTBOUND')\n"
   ]
  },
  {
   "cell_type": "code",
   "execution_count": 49,
   "metadata": {},
   "outputs": [
    {
     "name": "stdout",
     "output_type": "stream",
     "text": [
      "BINS AND COUNTS FOR INBOUND\n",
      "01-15 min:  2432\n",
      "16-29 min:  1332\n",
      "30-44 min:  178\n",
      "45-49 min:  14\n",
      "50-64 min:  35\n",
      "\n",
      "BINS AND COUNTS FOR OUTBOUND\n",
      "01-15 min:  2498\n",
      "16-29 min:  1655\n",
      "30-44 min:  244\n",
      "45-49 min:  22\n",
      "50-64 min:  40\n"
     ]
    }
   ],
   "source": [
    "print(\"BINS AND COUNTS FOR INBOUND\")\n",
    "print(\"01-15 min: \",sdfCleanIn[sdfCleanIn['duration_mm'].between(1, 15, inclusive=True)].rental_id.count())\n",
    "print(\"16-29 min: \",sdfCleanIn[sdfCleanIn['duration_mm'].between(16, 29, inclusive=True)].rental_id.count())\n",
    "print(\"30-44 min: \",sdfCleanIn[sdfCleanIn['duration_mm'].between(30, 44, inclusive=True)].rental_id.count())\n",
    "print(\"45-49 min: \",sdfCleanIn[sdfCleanIn['duration_mm'].between(45, 49, inclusive=True)].rental_id.count())\n",
    "print(\"50-64 min: \",sdfCleanIn[sdfCleanIn['duration_mm'].between(50, 64, inclusive=True)].rental_id.count())\n",
    "\n",
    "print(\"\\nBINS AND COUNTS FOR OUTBOUND\")\n",
    "print(\"01-15 min: \",sdfCleanOut[sdfCleanOut['duration_mm'].between(1, 15, inclusive=True)].rental_id.count())\n",
    "print(\"16-29 min: \",sdfCleanOut[sdfCleanOut['duration_mm'].between(16, 29, inclusive=True)].rental_id.count())\n",
    "print(\"30-44 min: \",sdfCleanOut[sdfCleanOut['duration_mm'].between(30, 44, inclusive=True)].rental_id.count())\n",
    "print(\"45-49 min: \",sdfCleanOut[sdfCleanOut['duration_mm'].between(45, 49, inclusive=True)].rental_id.count())\n",
    "print(\"50-64 min: \",sdfCleanOut[sdfCleanOut['duration_mm'].between(50, 64, inclusive=True)].rental_id.count())\n",
    "\n"
   ]
  },
  {
   "cell_type": "markdown",
   "metadata": {},
   "source": [
    "## Conclusions from the Analysis\n",
    "Once I was able to eliminate a small number of outliers, I was better able to create sensible visualisations of the datasets.\n",
    "It was no surprise that the vast majority of trips come under 30 minutes, due to the pricing structure.\n",
    "My initial hunch was that the 16-29 minute duration range would be the most common.  However, I discovered that there's actually a far stronger tendency to use the bikes for very short trips, up to 15 minutes.  This is supported by the analysis I did of the common connecting stations, which from my local knowledge I know are very close by.\n",
    "There are no substantial differences in the patterns between the inbound and outbound rentals - perhaps just a bit more skewed towards the very short (under 15 mins) for the inbounds.\n",
    "It's clear from the box plots that the data is centered around 13 minutes, with the top whisker showing 40 minutes (aka 1.5 times the interquartile range above the 75th percentile) - a mere 2.6% of the cleaned inbound dataset falls above this level.\n",
    "The conclusion is that bike rentals to and from Salmon Lane docking station are used for many (very) short trips, and infrequently for long trips. "
   ]
  }
 ],
 "metadata": {
  "kernelspec": {
   "display_name": "Python 3",
   "language": "python",
   "name": "python3"
  },
  "language_info": {
   "codemirror_mode": {
    "name": "ipython",
    "version": 3
   },
   "file_extension": ".py",
   "mimetype": "text/x-python",
   "name": "python",
   "nbconvert_exporter": "python",
   "pygments_lexer": "ipython3",
   "version": "3.6.5"
  }
 },
 "nbformat": 4,
 "nbformat_minor": 2
}
